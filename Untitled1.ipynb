{
 "cells": [
  {
   "cell_type": "code",
   "execution_count": 1,
   "metadata": {},
   "outputs": [],
   "source": [
    "def amortizar(**kwarg):\n",
    "    print(kwarg)\n",
    "    print('Deuda',kwarg[\"d\"])\n",
    "    print('Tiempo',[\"t\"])\n",
    "    print('Periodos',kwarg[\"n\"])\n",
    "    \n",
    "    d=float(kwarg[\"d\"])\n",
    "    t=float(kwarg[\"t\"])\n",
    "    n=int(kwarg[\"n\"])\n",
    "    \n",
    "    r=(d *t ) / (1-pow((1+t),-n))\n",
    "    k=0\n",
    "    tabla=[]\n",
    "    while k!=n:\n",
    "        renglon = []\n",
    "        \n",
    "        i=d*t               \n",
    "        a=r-i       \n",
    "        d=d-a\n",
    "        k+=1\n",
    "        \n",
    "        renglon.append(i) \n",
    "        renglon.append(a)               \n",
    "        renglon.append(int(d))               \n",
    "        renglon.append(k)               \n",
    "        tabla.append(renglon)               \n",
    "                       \n",
    "    for i in tabla:\n",
    "        print(i)    "
   ]
  },
  {
   "cell_type": "code",
   "execution_count": 3,
   "metadata": {},
   "outputs": [],
   "source": [
    "def calculadora(a:float,b:float,opc:str):\n",
    "    if opc == '+':\n",
    "        c=a+b\n",
    "        print (c)\n",
    "    if opc == '-':\n",
    "        c=a-b\n",
    "        print (c)\n",
    "    if opc == '*':\n",
    "        c=a*b\n",
    "        print (c)\n",
    "    if opc == '/':\n",
    "        if b != 0:\n",
    "            c = a/b\n",
    "            print (c)\n",
    "        else:\n",
    "            print('Error')\n",
    "            \n",
    "    \n",
    "            "
   ]
  },
  {
   "cell_type": "code",
   "execution_count": null,
   "metadata": {},
   "outputs": [],
   "source": [
    "def menu():\n",
    "    print('*******************************')\n",
    "    opcion=input('1.Tabla de amortizacion')\n",
    "    opcion=input('2.Calculadora basica')\n",
    "    print('*******************************')\n",
    "    \n",
    "    if opcion=='1':\n",
    "        d1==input('Ingrese el valor de la deuda')\n",
    "        t1==input('Ingrese la tasa de amortizacion')\n",
    "        n1==input('Ingrese el numero de periodos')\n",
    "        \n",
    "        amortizar(d=d1,t=t1,n=n1)\n",
    "    elif opcion =='2':\n",
    "        a=float(input('ingrese el valor de a: '))\n",
    "        b=float(input('Ingrese el valor de b'))\n",
    "        \n",
    "        opc=input('Ingrse ')"
   ]
  }
 ],
 "metadata": {
  "kernelspec": {
   "display_name": "Python 3",
   "language": "python",
   "name": "python3"
  },
  "language_info": {
   "codemirror_mode": {
    "name": "ipython",
    "version": 3
   },
   "file_extension": ".py",
   "mimetype": "text/x-python",
   "name": "python",
   "nbconvert_exporter": "python",
   "pygments_lexer": "ipython3",
   "version": "3.8.5"
  }
 },
 "nbformat": 4,
 "nbformat_minor": 4
}
