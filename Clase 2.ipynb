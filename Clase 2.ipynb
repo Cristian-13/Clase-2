{
 "cells": [
  {
   "cell_type": "code",
   "execution_count": 3,
   "metadata": {},
   "outputs": [
    {
     "name": "stdout",
     "output_type": "stream",
     "text": [
      "gire en la  carrera 14\n"
     ]
    }
   ],
   "source": [
    "giro = 'carrera 14'\n",
    "\n",
    "if giro == 'carrera 9':\n",
    "    print('gire en la' ,giro)\n",
    "if giro == 'carrera 10':\n",
    "    print('gire en la' ,giro)\n",
    "if giro == 'carrera 11':\n",
    "    print('gire en la' ,giro)\n",
    "if giro == 'carrera 12':\n",
    "    print('gire en la' ,giro)\n",
    "if giro == 'carrera 13':\n",
    "    print('gire en la' ,giro)\n",
    "if giro == 'carrera 14':\n",
    "    print('gire en la ' ,giro)\n",
    "if giro == 'carrera 15':\n",
    "    print('gire en la' ,giro)\n",
    "    \n",
    "    "
   ]
  },
  {
   "cell_type": "code",
   "execution_count": 8,
   "metadata": {},
   "outputs": [
    {
     "name": "stdout",
     "output_type": "stream",
     "text": [
      "gire en la  carrera 14\n"
     ]
    }
   ],
   "source": [
    "def ejercicio3():\n",
    "    giro = input('Ingrese la direccion : ')\n",
    "\n",
    "if giro == 'carrera 9':\n",
    "    print('gire en la' ,giro)\n",
    "if giro == 'carrera 10':\n",
    "    print('gire en la' ,giro)\n",
    "if giro == 'carrera 11':\n",
    "    print('gire en la' ,giro)\n",
    "if giro == 'carrera 12':\n",
    "    print('gire en la' ,giro)\n",
    "if giro == 'carrera 13':\n",
    "    print('gire en la' ,giro)\n",
    "if giro == 'carrera 14':\n",
    "    print('gire en la ' ,giro)\n",
    "if giro == 'carrera 15':\n",
    "    print('gire en la' ,giro)"
   ]
  },
  {
   "cell_type": "code",
   "execution_count": 10,
   "metadata": {
    "scrolled": true
   },
   "outputs": [
    {
     "name": "stdout",
     "output_type": "stream",
     "text": [
      "Ingrese la direccion : carrera 14\n"
     ]
    }
   ],
   "source": [
    "ejercicio3()"
   ]
  },
  {
   "cell_type": "code",
   "execution_count": 23,
   "metadata": {},
   "outputs": [],
   "source": [
    "def calculadora(a:float,b:float,opc:str):\n",
    "    if opc == '+':\n",
    "        c=a+b\n",
    "        print (c)\n",
    "    if opc == '-':\n",
    "        c=a-b\n",
    "        print (c)\n",
    "    if opc == '*':\n",
    "        c=a*b\n",
    "        print (c)\n",
    "    if opc == '/':\n",
    "        if b != 0:\n",
    "            c = a/b\n",
    "            print (c)\n",
    "        else:\n",
    "            print('Error')\n",
    "            \n",
    "    \n",
    "            "
   ]
  },
  {
   "cell_type": "code",
   "execution_count": 28,
   "metadata": {},
   "outputs": [
    {
     "name": "stdout",
     "output_type": "stream",
     "text": [
      "ingrese el primer numero 50\n",
      "ingrese el segundo numero 50\n",
      "ingrese la operacion +\n",
      "100.0\n"
     ]
    }
   ],
   "source": [
    "a=float(input('ingrese el primer numero '))\n",
    "b=float(input('ingrese el segundo numero '))\n",
    "opc=input('ingrese la operacion ')\n",
    "\n",
    "calculadora(a,b,opc)\n"
   ]
  },
  {
   "cell_type": "markdown",
   "metadata": {},
   "source": [
    "#Lista"
   ]
  },
  {
   "cell_type": "code",
   "execution_count": 31,
   "metadata": {},
   "outputs": [],
   "source": [
    "lista1=[1,2,3,5,7,9,10]"
   ]
  },
  {
   "cell_type": "code",
   "execution_count": 32,
   "metadata": {},
   "outputs": [
    {
     "name": "stdout",
     "output_type": "stream",
     "text": [
      "[1, 2, 3, 5, 7, 9, 10]\n"
     ]
    }
   ],
   "source": [
    "print(lista1)"
   ]
  },
  {
   "cell_type": "markdown",
   "metadata": {},
   "source": [
    "#Tabla de amortizacion"
   ]
  },
  {
   "cell_type": "code",
   "execution_count": 33,
   "metadata": {},
   "outputs": [],
   "source": [
    "def amortizar(d,t,n):\n",
    "    print('Deuda',d)\n",
    "    print('Tiempo',t)\n",
    "    print('Periodos',n)"
   ]
  },
  {
   "cell_type": "code",
   "execution_count": 34,
   "metadata": {},
   "outputs": [
    {
     "name": "stdout",
     "output_type": "stream",
     "text": [
      "Deuda 500000\n",
      "Tiempo 11.13\n",
      "Periodos 180\n"
     ]
    }
   ],
   "source": [
    "amortizar(500000,11.13,180)"
   ]
  },
  {
   "cell_type": "code",
   "execution_count": 44,
   "metadata": {},
   "outputs": [],
   "source": [
    "def amortizar(**kwarg):\n",
    "    print(kwarg)\n",
    "    print('Deuda',kwarg[\"d\"])\n",
    "    print('Tiempo',[\"t\"])\n",
    "    print('Periodos',kwarg[\"n\"])\n",
    "    \n",
    "    d=float(kwarg[\"d\"])\n",
    "    t=float(kwarg[\"t\"])\n",
    "    n=int(kwarg[\"n\"])\n",
    "    \n",
    "    r=(d *t ) / (1-pow((1+t),-n))\n",
    "    k=0\n",
    "    tabla=[]\n",
    "    while k!=n:\n",
    "        renglon = []\n",
    "        \n",
    "        i=d*t               \n",
    "        a=r-i       \n",
    "        d=d-a\n",
    "        k+=1\n",
    "        \n",
    "        renglon.append(i) \n",
    "        renglon.append(a)               \n",
    "        renglon.append(int(d))               \n",
    "        renglon.append(k)               \n",
    "        tabla.append(renglon)               \n",
    "                       \n",
    "    for i in tabla:\n",
    "        print(i)               "
   ]
  },
  {
   "cell_type": "code",
   "execution_count": 46,
   "metadata": {},
   "outputs": [
    {
     "name": "stdout",
     "output_type": "stream",
     "text": [
      "{'d': 500000, 't': 0.11, 'n': 10}\n",
      "Deuda 500000\n",
      "Tiempo ['t']\n",
      "Periodos 10\n",
      "[55000.0, 29900.713548745116, 470099, 1]\n",
      "[51710.921509638036, 33189.79203910708, 436909, 2]\n",
      "[48060.04438533626, 36840.66916340886, 400068, 3]\n",
      "[44007.57077736128, 40893.142771383835, 359175, 4]\n",
      "[39509.32507250906, 45391.388476236054, 313784, 5]\n",
      "[34516.2723401231, 50384.44120862202, 263399, 6]\n",
      "[28973.983807174678, 55926.72974157044, 207473, 7]\n",
      "[22822.043535601933, 62078.670013143186, 145394, 8]\n",
      "[15993.389834156182, 68907.32371458893, 76487, 9]\n",
      "[8413.5842255514, 76487.12932319372, 0, 10]\n"
     ]
    }
   ],
   "source": [
    "amortizar(d=500000,t=0.11,n=10)"
   ]
  },
  {
   "cell_type": "markdown",
   "metadata": {},
   "source": [
    "###Multiplicacion de vectores"
   ]
  },
  {
   "cell_type": "code",
   "execution_count": 47,
   "metadata": {},
   "outputs": [],
   "source": [
    "import numpy as np "
   ]
  },
  {
   "cell_type": "code",
   "execution_count": 48,
   "metadata": {},
   "outputs": [
    {
     "name": "stderr",
     "output_type": "stream",
     "text": [
      "<>:7: SyntaxWarning: list indices must be integers or slices, not tuple; perhaps you missed a comma?\n",
      "<>:7: SyntaxWarning: list indices must be integers or slices, not tuple; perhaps you missed a comma?\n",
      "<ipython-input-48-b58cc8e1a242>:7: SyntaxWarning: list indices must be integers or slices, not tuple; perhaps you missed a comma?\n",
      "  b=np.array([[3,4,5,],[1,1,4][2,1,4]])\n"
     ]
    },
    {
     "ename": "TypeError",
     "evalue": "list indices must be integers or slices, not tuple",
     "output_type": "error",
     "traceback": [
      "\u001b[1;31m---------------------------------------------------------------------------\u001b[0m",
      "\u001b[1;31mTypeError\u001b[0m                                 Traceback (most recent call last)",
      "\u001b[1;32m<ipython-input-48-b58cc8e1a242>\u001b[0m in \u001b[0;36m<module>\u001b[1;34m\u001b[0m\n\u001b[0;32m      5\u001b[0m \u001b[1;31m##matriz b\u001b[0m\u001b[1;33m\u001b[0m\u001b[1;33m\u001b[0m\u001b[1;33m\u001b[0m\u001b[0m\n\u001b[0;32m      6\u001b[0m \u001b[1;33m\u001b[0m\u001b[0m\n\u001b[1;32m----> 7\u001b[1;33m \u001b[0mb\u001b[0m\u001b[1;33m=\u001b[0m\u001b[0mnp\u001b[0m\u001b[1;33m.\u001b[0m\u001b[0marray\u001b[0m\u001b[1;33m(\u001b[0m\u001b[1;33m[\u001b[0m\u001b[1;33m[\u001b[0m\u001b[1;36m3\u001b[0m\u001b[1;33m,\u001b[0m\u001b[1;36m4\u001b[0m\u001b[1;33m,\u001b[0m\u001b[1;36m5\u001b[0m\u001b[1;33m,\u001b[0m\u001b[1;33m]\u001b[0m\u001b[1;33m,\u001b[0m\u001b[1;33m[\u001b[0m\u001b[1;36m1\u001b[0m\u001b[1;33m,\u001b[0m\u001b[1;36m1\u001b[0m\u001b[1;33m,\u001b[0m\u001b[1;36m4\u001b[0m\u001b[1;33m]\u001b[0m\u001b[1;33m[\u001b[0m\u001b[1;36m2\u001b[0m\u001b[1;33m,\u001b[0m\u001b[1;36m1\u001b[0m\u001b[1;33m,\u001b[0m\u001b[1;36m4\u001b[0m\u001b[1;33m]\u001b[0m\u001b[1;33m]\u001b[0m\u001b[1;33m)\u001b[0m\u001b[1;33m\u001b[0m\u001b[1;33m\u001b[0m\u001b[0m\n\u001b[0m\u001b[0;32m      8\u001b[0m \u001b[1;33m\u001b[0m\u001b[0m\n\u001b[0;32m      9\u001b[0m \u001b[0mprint\u001b[0m\u001b[1;33m(\u001b[0m\u001b[1;34m\"Solucion\"\u001b[0m\u001b[1;33m,\u001b[0m\u001b[0mnp\u001b[0m\u001b[1;33m.\u001b[0m\u001b[0mlinal\u001b[0m\u001b[1;33m.\u001b[0m\u001b[0msolve\u001b[0m\u001b[1;33m(\u001b[0m\u001b[0mA\u001b[0m\u001b[1;33m,\u001b[0m\u001b[0mB\u001b[0m\u001b[1;33m)\u001b[0m\u001b[1;33m)\u001b[0m\u001b[1;33m\u001b[0m\u001b[1;33m\u001b[0m\u001b[0m\n",
      "\u001b[1;31mTypeError\u001b[0m: list indices must be integers or slices, not tuple"
     ]
    }
   ],
   "source": [
    "##matriz a\n",
    "\n",
    "A=np.array([[2,3,1],[2,-7,4]])\n",
    "\n",
    "##matriz b\n",
    "\n",
    "b=np.array([[3,4,5,],[1,1,4][2,1,4]])\n",
    "\n",
    "print(\"Solucion\",np.linal.solve(A,B))\n"
   ]
  },
  {
   "cell_type": "code",
   "execution_count": null,
   "metadata": {},
   "outputs": [],
   "source": []
  },
  {
   "cell_type": "markdown",
   "metadata": {},
   "source": [
    "##Busqueda de caracter"
   ]
  },
  {
   "cell_type": "code",
   "execution_count": 50,
   "metadata": {},
   "outputs": [],
   "source": [
    "texto='Clase de python x curso basico'"
   ]
  },
  {
   "cell_type": "code",
   "execution_count": 61,
   "metadata": {},
   "outputs": [
    {
     "name": "stdout",
     "output_type": "stream",
     "text": [
      "Lo encontre en  10\n"
     ]
    }
   ],
   "source": [
    "caracter='p'\n",
    "contador=0\n",
    "for i in texto:\n",
    "    contador+=1\n",
    "    if i==caracter:\n",
    "        print(\"Lo encontre en \",contador)"
   ]
  },
  {
   "cell_type": "code",
   "execution_count": 59,
   "metadata": {},
   "outputs": [
    {
     "name": "stdout",
     "output_type": "stream",
     "text": [
      "p\n"
     ]
    }
   ],
   "source": [
    "print(texto[9])"
   ]
  },
  {
   "cell_type": "code",
   "execution_count": 60,
   "metadata": {},
   "outputs": [
    {
     "name": "stdout",
     "output_type": "stream",
     "text": [
      "9\n"
     ]
    }
   ],
   "source": [
    "print(texto.find('p'))"
   ]
  },
  {
   "cell_type": "code",
   "execution_count": null,
   "metadata": {},
   "outputs": [],
   "source": []
  }
 ],
 "metadata": {
  "kernelspec": {
   "display_name": "Python 3",
   "language": "python",
   "name": "python3"
  },
  "language_info": {
   "codemirror_mode": {
    "name": "ipython",
    "version": 3
   },
   "file_extension": ".py",
   "mimetype": "text/x-python",
   "name": "python",
   "nbconvert_exporter": "python",
   "pygments_lexer": "ipython3",
   "version": "3.8.5"
  }
 },
 "nbformat": 4,
 "nbformat_minor": 4
}
